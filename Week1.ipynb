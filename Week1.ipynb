{
 "cells": [
  {
   "cell_type": "code",
   "execution_count": 2,
   "metadata": {},
   "outputs": [
    {
     "name": "stdout",
     "output_type": "stream",
     "text": [
      "[(10, 20, 100), (40, 50, 100), (70, 80, 100)]\n"
     ]
    }
   ],
   "source": [
    "#Qno1 Write a Python program to replace last value of tuples in a list.\n",
    "\n",
    "x = [(10, 20, 40), (40, 50, 60), (70, 80, 90)]\n",
    "print([t[:-1] + (100,) for t in x])\n"
   ]
  },
  {
   "cell_type": "code",
   "execution_count": null,
   "metadata": {},
   "outputs": [],
   "source": [
    "#Qno2. You are given a string and your task is to swap cases. In other words, convert all lowercase letters to uppercase letters and vice versa.\n",
    "\n",
    "a = input(\"Enter the strings:\")\n",
    "print(a.swapcase())\n",
    "\n",
    "\n"
   ]
  },
  {
   "cell_type": "code",
   "execution_count": null,
   "metadata": {},
   "outputs": [],
   "source": [
    "#Qno3. The user enters a string and a substring. You have to print the number of times that the substring occurs in the given string.String traversal will take place from left to right, not from right to left.\n",
    "\n",
    "G = input(\"Enter the strings:\")\n",
    "H = input(\"Enter the substrings:\")\n",
    "count = G.count(z)\n",
    "count"
   ]
  },
  {
   "cell_type": "code",
   "execution_count": null,
   "metadata": {},
   "outputs": [],
   "source": [
    "#Qno4. Write a class in which its one method accepts a string from console and another\n",
    " #method to print the characters that have Even indexes.\n",
    "class Indexes:\n",
    "    def __init__(self):\n",
    "        self.string=\"\"\n",
    "    def get(self):\n",
    "        f = input(\"Enter the characters:\")\n",
    "        for index in range(len(f)):\n",
    "            #checks the even indexes and print it\n",
    "            if(index % 2 == 0):\n",
    "                print(f[index], end=\"\") \n",
    "obj = Indexes()\n",
    "obj.get()"
   ]
  },
  {
   "cell_type": "code",
   "execution_count": null,
   "metadata": {},
   "outputs": [],
   "source": []
  }
 ],
 "metadata": {
  "kernelspec": {
   "display_name": "Python 3",
   "language": "python",
   "name": "python3"
  },
  "language_info": {
   "codemirror_mode": {
    "name": "ipython",
    "version": 3
   },
   "file_extension": ".py",
   "mimetype": "text/x-python",
   "name": "python",
   "nbconvert_exporter": "python",
   "pygments_lexer": "ipython3",
   "version": "3.6.5"
  }
 },
 "nbformat": 4,
 "nbformat_minor": 2
}
